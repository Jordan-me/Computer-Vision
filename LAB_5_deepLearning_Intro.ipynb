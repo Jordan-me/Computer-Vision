{
  "cells": [
    {
      "cell_type": "markdown",
      "metadata": {
        "id": "lF1pzOBXgDPM"
      },
      "source": [
        "# **Lab 5 - Introduction to Deep learning**\n",
        "# **Computer Vision (10224)**\n",
        "<img src='https://upload.wikimedia.org/wikipedia/he/thumb/9/94/%D7%A1%D7%9E%D7%9C_%D7%94%D7%9E%D7%9B%D7%9C%D7%9C%D7%94.jpg/560px-%D7%A1%D7%9E%D7%9C_%D7%94%D7%9E%D7%9B%D7%9C%D7%9C%D7%94.jpg'></img>\t\n",
        "## **Goals**\n",
        "* Motivation to use nn frameworks such as pytorch, tensorflow etc.  \n",
        "\n",
        "\n",
        "## **Lab Session**\n",
        "1. what is pytorch\n",
        "2. Basic Deep learning\n",
        "  * Fully Connected layers \n",
        "  * Activation functions   \n",
        "3. MNIST\n",
        "  * Download the  MNIST Dataset\n",
        "  * Initlaize a torchvision pre-defined MNIST dataset class\n",
        "4. Single Fully connected model \n",
        "  * Build a model using single fully connected layer\n",
        "  * Demo evaluation of the randomly initialized weights \n",
        "    * A little bit about torch.nn.fanctional \n",
        "    * A little bit about softmax activation function\n",
        "5. Three FC-Layer model \n",
        "  * concatinate 3 FC layer with the following dimensions: \n",
        "    * FC-1: input: size of the image in pixels, output: 128\n",
        "    * FC-2: input: 128, output: 64\n",
        "    * FC-1: input: 64, output: number of classes to predict from ( in this case 10) \n",
        "6. Convolution layer\n",
        "7. Pooling layer \n",
        "8. MNIST Model with convolution layers \n",
        "9. Class Exercise build LeNet Architectue:\n",
        "\n",
        "<img src = \"https://d2l.ai/_images/lenet.svg\"></img> \n",
        "\n",
        "\n",
        "\n",
        "## **Final Report**\n",
        "1. Complete the unfinished lab session tasks.\n",
        "2. Write a short TL;DR (too long didn’t read) summary and describe your work and what you understood in the lab.\n",
        "\n",
        "## **Guidelines**\n",
        "1. Code written in the assignments MUST follow the PEP-8 guidelines, we will deduct points of code not following this guideline, points will be accumulated.\n",
        "2. You may use either Google Colab or Local Jupyter notebook session.\n",
        "3. Use Markdown cells in-between your code cells to explain what you’ve done.\n",
        "4. Assignments must be submitted as .html with all the required plots.\n",
        "Some exercises will require online reading, you may use Google and stackoverflow for inspiration, although if you use it make sure to attach the reference link. \n",
        "5. Add as much comments you need to explain yourself, you wouldn’t want to assume we fully understand your\n",
        "intuition.\n",
        "6. Code should be well ordered, formatted and readable.\n",
        "\n",
        "## **Further Reading**:\n",
        "[DEEP LEARNING WITH PYTORCH: A 60 MINUTE BLITZ](https://pytorch.org/tutorials/beginner/deep_learning_60min_blitz.html)\n",
        "\n",
        "\n",
        "\n"
      ]
    },
    {
      "cell_type": "markdown",
      "metadata": {
        "id": "cj2abcS42Y5Q"
      },
      "source": [
        "## Imports"
      ]
    },
    {
      "cell_type": "code",
      "execution_count": null,
      "metadata": {
        "id": "0agl-SXLCgYj"
      },
      "outputs": [],
      "source": [
        "import torch\n",
        "import numpy as np\n",
        "import matplotlib.pyplot as plt\n",
        "import torch.nn as nn\n",
        "# from google.colab import drive\n",
        "import torch.nn.functional as F\n",
        "import torchvision\n",
        "%matplotlib inline"
      ]
    },
    {
      "cell_type": "markdown",
      "metadata": {
        "id": "_hcmVZoVCkuc"
      },
      "source": [
        "## What is PyTorch\n",
        "**PyTorch is very similar to Numpy and is mostly used as a deep learning research platform that provides maximum flexibility and speed e.g.** \n",
        "\n",
        "```\n",
        "# np.zeros == torch.zeros\n",
        "```\n",
        "\n",
        "\n"
      ]
    },
    {
      "cell_type": "markdown",
      "metadata": {
        "id": "FkvLMCs7DDGa"
      },
      "source": [
        "**Let see some of the similarities**"
      ]
    },
    {
      "cell_type": "code",
      "execution_count": null,
      "metadata": {
        "id": "GLW5N1YmC_yR"
      },
      "outputs": [],
      "source": [
        "shape = (3, 3, 3)\n",
        "\n",
        "# initialize a zero array in numpy\n",
        "zeros_np = np.zeros(shape)\n",
        "\n",
        "# initialize a zero array in pytorch\n",
        "zeros_torch = torch.zeros(shape)\n",
        "\n",
        "# initialize a zero array in torch from numpy\n",
        "zeros_torch_from_np = torch.from_numpy(zeros_np)"
      ]
    },
    {
      "cell_type": "code",
      "source": [
        "print(f'numpy shape: {zeros_np.shape}')\n",
        "print(f'torch shape: {zeros_torch.shape}')"
      ],
      "metadata": {
        "colab": {
          "base_uri": "https://localhost:8080/"
        },
        "id": "yW4Iy0RoW4iA",
        "outputId": "04a1c63e-c7f1-497a-89b6-8c18bd5d88d7"
      },
      "execution_count": null,
      "outputs": [
        {
          "output_type": "stream",
          "name": "stdout",
          "text": [
            "numpy shape: (3, 3, 3)\n",
            "torch shape: torch.Size([3, 3, 3])\n"
          ]
        }
      ]
    },
    {
      "cell_type": "markdown",
      "metadata": {
        "id": "kBkDvz4iDuqF"
      },
      "source": [
        "**Random numbers generator**"
      ]
    },
    {
      "cell_type": "code",
      "execution_count": null,
      "metadata": {
        "id": "oxwXqWG5DhKq"
      },
      "outputs": [],
      "source": [
        "#cudnn- default of pytorch use non deterministic values\n",
        "torch.backends.cudnn.benchmark = False\n",
        "#preform pool layer wont work if the next value is True.\n",
        "torch.backends.cudnn.deterministic = True\n",
        "# set random seed- identical numbers when intial network\n",
        "torch.manual_seed(7)\n",
        "\n",
        "# initialize a random numbers array in numpy\n",
        "randn_np = np.random.randn(*(shape))\n",
        "\n",
        "# initialize a random numbers array in pytorch\n",
        "randn_torch = torch.randn(shape)"
      ]
    },
    {
      "cell_type": "markdown",
      "metadata": {
        "id": "NVjOfkpjEyW5"
      },
      "source": [
        "**Auto gradient**\n",
        "![image.png](data:image/png;base64,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)"
      ]
    },
    {
      "cell_type": "code",
      "execution_count": null,
      "metadata": {
        "colab": {
          "base_uri": "https://localhost:8080/"
        },
        "id": "7pfAMIhzEQEJ",
        "outputId": "f5b8fd6d-d196-4da4-921b-cf643b574099"
      },
      "outputs": [
        {
          "output_type": "stream",
          "name": "stdout",
          "text": [
            "x: [0. 1. 2. 3.]\n",
            "x as troch: tensor([0., 1., 2., 3.])\n",
            "x as troch to cuda tensor([0., 1., 2., 3.], device='cuda:0')\n",
            "y: tensor([ 0.,  2.,  8., 18.], device='cuda:0', grad_fn=<MulBackward0>)\n",
            "z: tensor(28., device='cuda:0', grad_fn=<SumBackward0>)\n",
            "------------\n",
            "tensor([ 0.,  4.,  8., 12.], device='cuda:0')\n"
          ]
        }
      ],
      "source": [
        "#array- 0 to 4 {0.,1.,2.,3.}\n",
        "x = np.arange(0, 4, 1, dtype=np.float32)\n",
        "print('x:', x)\n",
        "# convert numpy to torch\n",
        "x_torch = torch.from_numpy(x)\n",
        "print ('x as troch:', x_torch)\n",
        "#load the array to cuda memory / x_torch.to(\"cpu\")- load it back to the cpu\n",
        "x_torch = x_torch.cuda()\n",
        "print ('x as troch to cuda', x_torch)\n",
        "# on x_torch we want to save its gradients\n",
        "x_torch.requires_grad = True\n",
        "# y = 2(x^2) = [0,2,8,18] -> grad_fn = <MulBackward>\n",
        "y = 2 * (x_torch**2)\n",
        "print('y:', y)\n",
        "#z = 28 -> grad_fn = <sumnBackward>\n",
        "z = y.sum()\n",
        "print('z:', z)\n",
        "\n",
        "print('------------')\n",
        "# lets get the gradients. using Back propogation\n",
        "# z.backward([1.]) --> dz/dz\n",
        "z.backward()\n",
        "print(x_torch.grad)\n"
      ]
    },
    {
      "cell_type": "markdown",
      "metadata": {
        "id": "p5U9oGagb09H"
      },
      "source": [
        "**Torch to numpy**\n"
      ]
    },
    {
      "cell_type": "code",
      "execution_count": null,
      "metadata": {
        "id": "YKS0GhAHcanJ",
        "colab": {
          "base_uri": "https://localhost:8080/"
        },
        "outputId": "c99dd9d4-83b7-40a2-920a-ac777b6f3ce4"
      },
      "outputs": [
        {
          "output_type": "execute_result",
          "data": {
            "text/plain": [
              "array([0., 1., 2., 3.], dtype=float32)"
            ]
          },
          "metadata": {},
          "execution_count": 15
        }
      ],
      "source": [
        "# from torch to numpy\n",
        "x_np = x_torch.detach().cpu().numpy()\n",
        "x_np"
      ]
    },
    {
      "cell_type": "markdown",
      "metadata": {
        "id": "Rv6jFJLIcqGf"
      },
      "source": [
        "**Using the GPU**"
      ]
    },
    {
      "cell_type": "code",
      "execution_count": null,
      "metadata": {
        "colab": {
          "base_uri": "https://localhost:8080/"
        },
        "id": "op2-L1IScu_K",
        "outputId": "3f690d5d-791e-4c2d-85ae-8e4fb0c7a7d7"
      },
      "outputs": [
        {
          "output_type": "stream",
          "name": "stdout",
          "text": [
            "cuda\n"
          ]
        },
        {
          "output_type": "execute_result",
          "data": {
            "text/plain": [
              "tensor([0., 1., 2., 3.], device='cuda:0', requires_grad=True)"
            ]
          },
          "metadata": {},
          "execution_count": 16
        }
      ],
      "source": [
        "# First we check if we have a GPU which can use\n",
        "device = torch.device('cuda') if torch.cuda.is_available() else torch.device('cpu')\n",
        "print(device)\n",
        "\n",
        "# Now we move the tensor from the cpu to GPU\n",
        "x_torch.to(device)\n",
        "\n",
        "#Or we can use the otherway which is:\n",
        "\n",
        "#x_torch.cuda() # this will throw and error if cuda device is not available"
      ]
    },
    {
      "cell_type": "markdown",
      "metadata": {
        "id": "Sle8szZMIl-5"
      },
      "source": [
        "## Basic Deep learning!\n"
      ]
    },
    {
      "cell_type": "markdown",
      "metadata": {
        "id": "UNy-2iMrIqOe"
      },
      "source": [
        "### Fully-Connnected layer\n",
        "$x_{in}*weights + biases$\n",
        "\n",
        "**Shapes:**\n",
        "$[Batch_{in}, featuresSize] * [featuresSize, OutSize] + [N] = [Batch_{in}, OutSize]$"
      ]
    },
    {
      "cell_type": "code",
      "execution_count": null,
      "metadata": {
        "id": "1GVEXgliIgH2"
      },
      "outputs": [],
      "source": [
        "# Old school low level fully connected layer\n",
        "batch_size = 1 \n",
        "features_size = 28\n",
        "out_size = 2\n",
        "x_input = torch.randn((batch_size, features_size)) \n",
        "weights = torch.randn((features_size, out_size)) # random init weights, never set weights to zero.\n",
        "biases = torch.zeros(out_size) # set biases to zero"
      ]
    },
    {
      "cell_type": "code",
      "execution_count": null,
      "metadata": {
        "id": "jS9MQYXEJMmg"
      },
      "outputs": [],
      "source": [
        "# just like the above formula\n",
        "fc1 = torch.matmul(x_input, weights) + biases\n"
      ]
    },
    {
      "cell_type": "code",
      "execution_count": null,
      "metadata": {
        "colab": {
          "base_uri": "https://localhost:8080/"
        },
        "id": "RTXNTeRiM-lk",
        "outputId": "123f227f-7dfe-4e64-c2f9-59039e56296b"
      },
      "outputs": [
        {
          "output_type": "stream",
          "name": "stdout",
          "text": [
            "tensor([[0.4492, 1.3131]], grad_fn=<AddmmBackward0>)\n"
          ]
        }
      ],
      "source": [
        "# How we do it in PyTorch\n",
        "our_first_model = nn.Sequential(\n",
        "    nn.Linear(in_features=features_size, out_features=out_size, bias=True),\n",
        ")\n",
        "# Run it !\n",
        "print(our_first_model(x_input))"
      ]
    },
    {
      "cell_type": "code",
      "execution_count": null,
      "metadata": {
        "colab": {
          "base_uri": "https://localhost:8080/"
        },
        "id": "nkHpDVj9fkgv",
        "outputId": "b16a5b79-560b-43ab-b682-13f05d8d381c"
      },
      "outputs": [
        {
          "output_type": "stream",
          "name": "stdout",
          "text": [
            "tensor([[-1.4135, -1.4227]], grad_fn=<AddmmBackward0>)\n"
          ]
        }
      ],
      "source": [
        "#2\n",
        "class Model(nn.Module):\n",
        "    def __init__(self, features_size_in, out_size):\n",
        "        super(Model, self).__init__()\n",
        "        self.fc1 = nn.Linear(in_features=features_size_in,\n",
        "                             out_features=out_size, bias=True)\n",
        "        #initial of the weights\n",
        "        torch.nn.init.xavier_uniform_(self.fc1.weight)\n",
        "        torch.nn.init.zeros_(self.fc1.bias)\n",
        "\n",
        "    def forward(self, x):\n",
        "        return self.fc1(x)\n",
        "  \n",
        "\n",
        "# Run it!\n",
        "net = Model(features_size, out_size)\n",
        "print(net(x_input))"
      ]
    },
    {
      "cell_type": "code",
      "source": [
        "for k,v in net.named_parameters():\n",
        "  if \"weight\" in k:\n",
        "    print(k,v.requires_grad)\n",
        "  else:\n",
        "    print(k,v.requires_grad)"
      ],
      "metadata": {
        "colab": {
          "base_uri": "https://localhost:8080/"
        },
        "id": "8UnSufnsdEs8",
        "outputId": "2c26acb5-cf20-4571-9ec0-4a83dd4d47cd"
      },
      "execution_count": null,
      "outputs": [
        {
          "output_type": "stream",
          "name": "stdout",
          "text": [
            "fc1.weight True\n",
            "fc1.bias True\n"
          ]
        }
      ]
    },
    {
      "cell_type": "markdown",
      "metadata": {
        "id": "5diCRaQ6NkE8"
      },
      "source": [
        "### Activation functions\n",
        "**What are they good for? Breaking linearity !**\n",
        "\n",
        "A linear function is just a polynomial of one degree. Now, a linear equation is easy to solve but they are limited in their complexity and have less power to learn complex functional mappings from data. A Neural Network without Activation function would simply be a Linear regression Model, which has limited power and does not performs good most of the times."
      ]
    },
    {
      "cell_type": "markdown",
      "metadata": {
        "id": "PdNu_rXdOaRQ"
      },
      "source": [
        "Our first activation! the common **ReLU** stands for rectified linear unit\n",
        "it basicly does $max{(0, features)}$"
      ]
    },
    {
      "cell_type": "code",
      "execution_count": null,
      "metadata": {
        "id": "y5_ZE0wlNi-l"
      },
      "outputs": [],
      "source": [
        "# the Torch way!\n",
        "relu1 = F.relu(fc1)\n",
        "# the numpy way!\n",
        "relu2 = np.maximum(0, fc1.numpy())"
      ]
    },
    {
      "cell_type": "markdown",
      "metadata": {
        "id": "0jXBuClRQ-Wg"
      },
      "source": [
        "## MNIST Dataset \n"
      ]
    },
    {
      "cell_type": "markdown",
      "metadata": {
        "id": "kYSSAJFk54rO"
      },
      "source": [
        "### let's download the data \n",
        "!wget is used to download the data \n",
        "\n",
        "!tar is used to decompress the data "
      ]
    },
    {
      "cell_type": "code",
      "execution_count": null,
      "metadata": {
        "colab": {
          "base_uri": "https://localhost:8080/"
        },
        "id": "Ernf7lOu2deX",
        "outputId": "25f7c4b4-42d4-43db-e037-6332cde0abd6"
      },
      "outputs": [
        {
          "output_type": "stream",
          "name": "stdout",
          "text": [
            "--2022-03-20 17:52:53--  https://activeeon-public.s3.eu-west-2.amazonaws.com/datasets/MNIST.new.tar.gz\n",
            "Resolving activeeon-public.s3.eu-west-2.amazonaws.com (activeeon-public.s3.eu-west-2.amazonaws.com)... 52.95.148.150\n",
            "Connecting to activeeon-public.s3.eu-west-2.amazonaws.com (activeeon-public.s3.eu-west-2.amazonaws.com)|52.95.148.150|:443... connected.\n",
            "HTTP request sent, awaiting response... 200 OK\n",
            "Length: 34812527 (33M) [application/x-gzip]\n",
            "Saving to: ‘MNIST.tar.gz’\n",
            "\n",
            "MNIST.tar.gz        100%[===================>]  33.20M  17.3MB/s    in 1.9s    \n",
            "\n",
            "2022-03-20 17:52:56 (17.3 MB/s) - ‘MNIST.tar.gz’ saved [34812527/34812527]\n",
            "\n",
            "MNIST/\n",
            "MNIST/raw/\n",
            "MNIST/raw/train-labels-idx1-ubyte.gz\n",
            "MNIST/raw/t10k-images-idx3-ubyte\n",
            "MNIST/raw/train-images-idx3-ubyte\n",
            "MNIST/raw/t10k-labels-idx1-ubyte.gz\n",
            "MNIST/raw/train-images-idx3-ubyte.gz\n",
            "MNIST/raw/t10k-images-idx3-ubyte.gz\n",
            "MNIST/raw/train-labels-idx1-ubyte\n",
            "MNIST/raw/t10k-labels-idx1-ubyte\n",
            "MNIST/processed/\n",
            "MNIST/processed/test.pt\n",
            "MNIST/processed/training.pt\n"
          ]
        }
      ],
      "source": [
        "#Download\n",
        "!wget -O MNIST.tar.gz https://activeeon-public.s3.eu-west-2.amazonaws.com/datasets/MNIST.new.tar.gz\n",
        "!tar -zxvf MNIST.tar.gz"
      ]
    },
    {
      "cell_type": "markdown",
      "metadata": {
        "id": "-3yGSnXy6L9o"
      },
      "source": [
        "### Load the data to the predefined torchvision MNIST Dataset class "
      ]
    },
    {
      "cell_type": "code",
      "execution_count": null,
      "metadata": {
        "id": "OmBQl6_VRGpU"
      },
      "outputs": [],
      "source": [
        "trainset = torchvision.datasets.MNIST(root='', train=False, download=False);\n",
        "\n",
        "num_classes = len(trainset.classes)"
      ]
    },
    {
      "cell_type": "markdown",
      "metadata": {
        "id": "4P1PTf1A6XgC"
      },
      "source": [
        "#### Visualize one image"
      ]
    },
    {
      "cell_type": "code",
      "execution_count": null,
      "metadata": {
        "colab": {
          "base_uri": "https://localhost:8080/",
          "height": 335
        },
        "id": "tyeHo_qiROSG",
        "outputId": "0746a8a8-f97a-4853-a828-0ec86afd805f"
      },
      "outputs": [
        {
          "output_type": "stream",
          "name": "stderr",
          "text": [
            "/usr/local/lib/python3.7/dist-packages/torchvision/datasets/mnist.py:52: UserWarning: train_labels has been renamed targets\n",
            "  warnings.warn(\"train_labels has been renamed targets\")\n"
          ]
        },
        {
          "output_type": "execute_result",
          "data": {
            "text/plain": [
              "Text(0.5, 1.0, 'The number 0')"
            ]
          },
          "metadata": {},
          "execution_count": 29
        },
        {
          "output_type": "display_data",
          "data": {
            "text/plain": [
              "<Figure size 432x288 with 1 Axes>"
            ],
            "image/png": "[encoded data removed]"
          },
          "metadata": {
            "needs_background": "light"
          }
        }
      ],
      "source": [
        "\n",
        "idx = np.random.randint(trainset.data.shape[0])\n",
        "plt.imshow(trainset.data[idx].numpy(), cmap=\"gray\")\n",
        "plt.title(f'The number {trainset.train_labels[idx]}')"
      ]
    },
    {
      "cell_type": "markdown",
      "metadata": {
        "id": "9MHgYL3bQORg"
      },
      "source": [
        "## Building a Model using a single FC - Fully-Connected layer!"
      ]
    },
    {
      "cell_type": "code",
      "execution_count": null,
      "metadata": {
        "id": "1RHSz2-2QNJM"
      },
      "outputs": [],
      "source": [
        "class mnistModel(nn.Module):\n",
        "    def __init__(self, features_size_in, out_size):\n",
        "        super(mnistModel, self).__init__()\n",
        "        self.fc1 = nn.Linear(in_features=features_size_in, out_features=out_size)\n",
        "  \n",
        "    def forward(self, x):\n",
        "        #view- safer flattern\n",
        "        x = x.view(x.shape[0], -1)\n",
        "        y = self.fc1(x)\n",
        "        return y"
      ]
    },
    {
      "cell_type": "code",
      "source": [
        "# x.view?"
      ],
      "metadata": {
        "id": "HtGp6oPGgKbX"
      },
      "execution_count": null,
      "outputs": []
    },
    {
      "cell_type": "markdown",
      "metadata": {
        "id": "2hsqA9186v53"
      },
      "source": [
        "get a random image from the dataset "
      ]
    },
    {
      "cell_type": "code",
      "execution_count": null,
      "metadata": {
        "id": "_XHsmmAAiZMf",
        "colab": {
          "base_uri": "https://localhost:8080/",
          "height": 284
        },
        "outputId": "ad56318c-3704-40f2-a58d-0b6e6ee7ff07"
      },
      "outputs": [
        {
          "output_type": "execute_result",
          "data": {
            "text/plain": [
              "<matplotlib.image.AxesImage at 0x7f9e0317ff50>"
            ]
          },
          "metadata": {},
          "execution_count": 45
        },
        {
          "output_type": "display_data",
          "data": {
            "text/plain": [
              "<Figure size 432x288 with 1 Axes>"
            ],
            "image/png": "[encoded data removed]"
          },
          "metadata": {
            "needs_background": "light"
          }
        }
      ],
      "source": [
        "random_image = trainset.data[idx] / 255.\n",
        "plt.imshow(random_image)"
      ]
    },
    {
      "cell_type": "code",
      "execution_count": null,
      "metadata": {
        "id": "WPEBf12pibFV",
        "colab": {
          "base_uri": "https://localhost:8080/"
        },
        "outputId": "70d9b63a-6c88-4541-d5df-c7a2f909ef10"
      },
      "outputs": [
        {
          "output_type": "stream",
          "name": "stdout",
          "text": [
            "Image shape: 28X28\n"
          ]
        }
      ],
      "source": [
        "h, w = random_image.size()\n",
        "print(f'Image shape: {h}X{w}')"
      ]
    },
    {
      "cell_type": "markdown",
      "metadata": {
        "id": "sjw9HOKFwCdu"
      },
      "source": [
        " ### Initilize  our FC MNIST model "
      ]
    },
    {
      "cell_type": "markdown",
      "source": [
        "* TesorFlow shape: [BatchSize, H, H,C]\n",
        "* Pytorch shape:  [BatchSize, C, H,W]"
      ],
      "metadata": {
        "id": "ESjda5lXvbx9"
      }
    },
    {
      "cell_type": "code",
      "execution_count": null,
      "metadata": {
        "id": "NKSiqVWRiMww"
      },
      "outputs": [],
      "source": [
        "mnist_model = mnistModel(h * w, num_classes)"
      ]
    },
    {
      "cell_type": "markdown",
      "source": [
        "### For Validation & Test we will use:\n",
        "`with torch.no_grad():` \\\\\n",
        "`output = mnist_model(random_img[np.newaxis,:]`"
      ],
      "metadata": {
        "id": "Y1unfxxhvL5b"
      }
    },
    {
      "cell_type": "markdown",
      "metadata": {
        "id": "gl_llRZuwJt8"
      },
      "source": [
        "#### Demo evaluation of the random initalized mnist fully connectem model.\n",
        "\n",
        "\n",
        "\n"
      ]
    },
    {
      "cell_type": "markdown",
      "metadata": {
        "id": "Cs4AJPBf7wjm"
      },
      "source": [
        "explantion of some of the method which has been used: \n",
        "\n",
        "<code>numpy()</code> method is used to convert the tensor to numpy array please notice that it has to be on the cpu otherwise an error will be raised \n",
        "\n",
        "<code>cpu()</code> method is used to copy the tensor to the cpu\n",
        "\n",
        "<code>torch.torch.nn.functional</code> allows us to use a nn function with out the need to pre- define it, it is common to use this module for small modification of a certion model output. \n",
        "\n",
        "<code>softmax()</code> applies the **softmax activation** function: \n",
        "softmax forces the sum of the prediction to be one and each prediction value to be between zero and one. Thus softmax repressent the probabilty of each class to be the corrent class in the input image. "
      ]
    },
    {
      "cell_type": "code",
      "execution_count": null,
      "metadata": {
        "id": "12nz1SdsiwyP"
      },
      "outputs": [],
      "source": [
        "output = mnist_model(random_image[np.newaxis, :])\n",
        "softmax_output = F.softmax(output, dim=-1)\n",
        "output_np =  output.detach().cpu().numpy()"
      ]
    },
    {
      "cell_type": "markdown",
      "metadata": {
        "id": "ZQB8vjtW0Jl-"
      },
      "source": [
        "let's review the result and different ways to print tensor \n",
        "\n",
        "<code>item()</code> method is used to extract the value of of a one element tensor.\n",
        "\n",
        "<code>detach()</code> method is used to remove the gradient backwards path calculation \n",
        " "
      ]
    },
    {
      "cell_type": "code",
      "execution_count": null,
      "metadata": {
        "colab": {
          "base_uri": "https://localhost:8080/"
        },
        "id": "HzkN-BEiVVqS",
        "outputId": "4d4c07eb-e527-41cd-a5cb-446eb353456a"
      },
      "outputs": [
        {
          "output_type": "stream",
          "name": "stdout",
          "text": [
            "model output: [[ 0.11148486 -0.29921106  0.07206193  0.22484957  0.19975798 -0.14427063\n",
            "   0.12448015  0.28785568 -0.06675744  0.0719617 ]]\n",
            "output with softmax [[0.10400266 0.06897338 0.09998234 0.11648718 0.11360069 0.08053251\n",
            "  0.10536303 0.12406273 0.08702315 0.09997232]]\n",
            "sum (no softmax): 0.5822127461433411 sum (with softmax) 0.9999999403953552\n",
            "predicted digit (no softmax) tensor(7)\n",
            "predicted digit (with softmax) tensor(7)\n"
          ]
        }
      ],
      "source": [
        "print('model output:', output.detach().cpu().numpy())\n",
        "print ('output with softmax',softmax_output.detach().cpu().numpy())\n",
        "print('sum (no softmax):', output.detach().sum().item(),\n",
        "      'sum (with softmax)',softmax_output.detach().sum().item())\n",
        "print ('predicted digit (no softmax)', output.detach().argmax())\n",
        "print ('predicted digit (with softmax)', softmax_output.detach().argmax())"
      ]
    },
    {
      "cell_type": "markdown",
      "metadata": {
        "id": "-vRmcrw7j-2v"
      },
      "source": [
        "## Implement a 3 layer fully connected model:\n",
        "\n",
        "the layers demtion should be as follows:\n",
        "\n",
        "* for the first layer: output features of 128 \n",
        "* for the second layer: output features of 64 \n",
        "* for the third layer: the output features would be the number of classes to predict from, in this case 10.   \n"
      ]
    },
    {
      "cell_type": "code",
      "execution_count": null,
      "metadata": {
        "id": "Kk5a0hhdkI6Y",
        "colab": {
          "base_uri": "https://localhost:8080/"
        },
        "outputId": "94993691-f2fc-401d-86e7-fc9265f5b816"
      },
      "outputs": [
        {
          "output_type": "stream",
          "name": "stdout",
          "text": [
            "model output: [[-0.14347675 -0.06247773  0.03413906 -0.09959184 -0.11092102  0.03033157\n",
            "   0.13320029 -0.09522031 -0.15664771 -0.00669565]]\n",
            "output with softmax [[0.09051257 0.0981491  0.10810517 0.09457315 0.09350776 0.10769434\n",
            "  0.11936258 0.09498748 0.08932824 0.10377964]]\n",
            "sum (no softmax): -0.4773601293563843 sum (with softmax) 1.0\n",
            "predicted digit (no softmax) tensor(6)\n",
            "predicted digit (with softmax) tensor(6)\n"
          ]
        }
      ],
      "source": [
        "class mnistModel(nn.Module):\n",
        "    def __init__(self):\n",
        "        super(mnistModel, self).__init__()\n",
        "        self.fc1 = nn.Linear(in_features=28 * 28, out_features=128)\n",
        "        self.fc2 = nn.Linear(in_features=128, out_features=64)\n",
        "        self.fc3 = nn.Linear(in_features=64, out_features=10)\n",
        "        self.relu = nn.ReLU()\n",
        "    def forward(self, x):\n",
        "        x = x.view(x.shape[0], -1)\n",
        "        x = self.fc1(x)\n",
        "        x = self.relu (x)\n",
        "        x = self.fc2(x)\n",
        "        x = self.relu (x)\n",
        "        x = self.fc3(x)\n",
        "        # y = F.softmax(x) --> we will calculate it in other step\n",
        "        y = x\n",
        "        return y\n",
        "        \n",
        "mnist_model1 = mnistModel()\n",
        "output = mnist_model1.forward(random_image[np.newaxis, :])\n",
        "softmax_output = F.softmax(output, dim=-1)\n",
        "output_np =  output.detach().cpu().numpy()\n",
        "print('model output:', output.detach().cpu().numpy())\n",
        "print ('output with softmax',softmax_output.detach().cpu().numpy())\n",
        "print('sum (no softmax):', output.detach().sum().item(),\n",
        "      'sum (with softmax)',softmax_output.detach().sum().item())\n",
        "print ('predicted digit (no softmax)', output.detach().argmax())\n",
        "print ('predicted digit (with softmax)', softmax_output.detach().argmax())"
      ]
    },
    {
      "cell_type": "markdown",
      "metadata": {
        "id": "Jp7v5s7EkLhV"
      },
      "source": [
        "## Convolution layer"
      ]
    },
    {
      "cell_type": "markdown",
      "metadata": {
        "id": "82pdVkUekRB6"
      },
      "source": [
        "**Works more like correlation then convolution.**\n",
        "How does it  works? let us watch https://cs231n.github.io/convolutional-networks/"
      ]
    },
    {
      "cell_type": "markdown",
      "metadata": {
        "id": "JwtKK6lIk4ew"
      },
      "source": [
        "**Conv2d  in PyTorch**\n",
        "Syntax : **nn.Conv2d(in_channels, out_channel, kernel_size, stride, padding)**\n",
        "**Note: in PyTorch we work with tensor that has shape like [batch_size, Channels, H, W] so we have to transpose the channels into the right order before processing the data.**\n",
        "\n",
        "Watch the example below:"
      ]
    },
    {
      "cell_type": "code",
      "execution_count": null,
      "metadata": {
        "colab": {
          "base_uri": "https://localhost:8080/"
        },
        "id": "dfe5WyUzneSL",
        "outputId": "5157225e-c580-4771-9025-75736b408d1c"
      },
      "outputs": [
        {
          "output_type": "stream",
          "name": "stdout",
          "text": [
            "torch.Size([28, 28])\n",
            "torch.Size([1, 1, 28, 28])\n"
          ]
        }
      ],
      "source": [
        "input_image = random_image\n",
        "print(input_image.shape) # shape of only H, W  which means we have to add two more channels\n",
        "# batch_size if we only work with one image and the color channel.\n",
        "# Mostly when working with RGB/BGR images we wont have to add extra channels\n",
        "conv_ready_image = random_image[np.newaxis, np.newaxis, :] # we added one channel at the start and one after him\n",
        "print(conv_ready_image.shape)"
      ]
    },
    {
      "cell_type": "code",
      "execution_count": null,
      "metadata": {
        "id": "bZ8efApLldrE"
      },
      "outputs": [],
      "source": [
        "conv1 = nn.Conv2d(in_channels=1, out_channels=16, kernel_size=(3, 3), stride=1) # Create a conv2D layer"
      ]
    },
    {
      "cell_type": "code",
      "execution_count": null,
      "metadata": {
        "colab": {
          "base_uri": "https://localhost:8080/"
        },
        "id": "hPpdVgbhmVTn",
        "outputId": "f8f340f9-2eb9-405a-b6ce-03606e4acd6f"
      },
      "outputs": [
        {
          "output_type": "stream",
          "name": "stdout",
          "text": [
            "torch.Size([1, 16, 26, 26])\n"
          ]
        }
      ],
      "source": [
        "conv_res = conv1(conv_ready_image) # Run the conv2D layer on our input\n",
        "print(conv_res.shape) # see how the new shapes, H and W are reduced by 2 and the channels changed to 3"
      ]
    },
    {
      "cell_type": "markdown",
      "metadata": {
        "id": "sH8XujwUpPOw"
      },
      "source": [
        "## Pooling Layer\n",
        "Syntax: **nn.MaxPool2d(kernel_size)**\n",
        "This layer purpose is to reduce the spatial size, it is a sampling method.\n",
        "There's a window with size kernel_size that picks the maximum number in that window."
      ]
    },
    {
      "cell_type": "code",
      "execution_count": null,
      "metadata": {
        "colab": {
          "base_uri": "https://localhost:8080/"
        },
        "id": "8P-1-8d5p5a3",
        "outputId": "a94b2990-9e74-4902-c770-6af49941f484"
      },
      "outputs": [
        {
          "output_type": "stream",
          "name": "stdout",
          "text": [
            "torch.Size([1, 16, 13, 13])\n"
          ]
        }
      ],
      "source": [
        "pooling1 = nn.MaxPool2d(kernel_size=(2,2),stride=2)\n",
        "pooling_res = pooling1(conv_res) #use the layer!\n",
        "print(pooling_res.shape) # We reduced H and W by a factor of 2 from 26X26 to 13X13"
      ]
    },
    {
      "cell_type": "markdown",
      "metadata": {
        "id": "k8r-2eHx9y-r"
      },
      "source": [
        "## MNIST Model with conv layers "
      ]
    },
    {
      "cell_type": "code",
      "execution_count": null,
      "metadata": {
        "id": "RcrSfri9rj44"
      },
      "outputs": [],
      "source": [
        "# Quick and small conv2d based model\n",
        "\n",
        "class mnistModelV2(nn.Module):\n",
        "    def __init__(self):\n",
        "        super(mnistModelV2, self).__init__()\n",
        "        self.conv1 = nn.Conv2d(1,8,(3,3))\n",
        "        self.pool1 = nn.MaxPool2d(2)\n",
        "        self.fc1 = nn.Linear(in_features=13*13*8,out_features=10)\n",
        "  \n",
        "    def forward(self, x):\n",
        "        x = self.conv1(x)\n",
        "        x = F.relu(x)\n",
        "        x = self.pool1(x)\n",
        "        x = x.view(x.shape[0], -1)\n",
        "        y = self.fc1(x)\n",
        "        return y"
      ]
    },
    {
      "cell_type": "code",
      "execution_count": null,
      "metadata": {
        "id": "XSqcFCKCsXpi"
      },
      "outputs": [],
      "source": [
        "mnist_v2 = mnistModelV2()"
      ]
    },
    {
      "cell_type": "code",
      "source": [
        "for k,v in mnist_v2.named_parameters():\n",
        "  if \"weight\" in k:\n",
        "    print(k,v.requires_grad)\n",
        "  else:\n",
        "    print(k,v.requires_grad)"
      ],
      "metadata": {
        "colab": {
          "base_uri": "https://localhost:8080/"
        },
        "id": "EIJRiOV8scuT",
        "outputId": "09340520-994e-4531-a078-2430e3bd4a0f"
      },
      "execution_count": null,
      "outputs": [
        {
          "output_type": "stream",
          "name": "stdout",
          "text": [
            "conv1.weight True\n",
            "conv1.bias True\n",
            "fc1.weight True\n",
            "fc1.bias True\n"
          ]
        }
      ]
    },
    {
      "cell_type": "code",
      "execution_count": null,
      "metadata": {
        "colab": {
          "base_uri": "https://localhost:8080/"
        },
        "id": "Y95-EwUossLm",
        "outputId": "2513e751-3c8f-46a2-b263-606e6c87b398"
      },
      "outputs": [
        {
          "output_type": "stream",
          "name": "stdout",
          "text": [
            "tensor([[-0.1488, -0.0796, -0.0456, -0.0899, -0.1228,  0.1888,  0.0452,  0.0376,\n",
            "         -0.0985, -0.0539]])\n"
          ]
        }
      ],
      "source": [
        "improved_mnist_res = mnist_v2(conv_ready_image)\n",
        "print(improved_mnist_res.detach())"
      ]
    },
    {
      "cell_type": "code",
      "source": [
        "improved_mnist_res.softmax(dim = -1).argmax(dim = -1)"
      ],
      "metadata": {
        "colab": {
          "base_uri": "https://localhost:8080/"
        },
        "id": "QyicEQ1gsAVg",
        "outputId": "ae13d8e2-f5ed-460f-8c1b-b85702d6d3ab"
      },
      "execution_count": null,
      "outputs": [
        {
          "output_type": "execute_result",
          "data": {
            "text/plain": [
              "tensor([5])"
            ]
          },
          "metadata": {},
          "execution_count": 75
        }
      ]
    },
    {
      "cell_type": "markdown",
      "metadata": {
        "id": "j5ben2dFos5X"
      },
      "source": [
        "## **Class exercise build the LeNet architecture**\n",
        "\n",
        "<img src = https://d2l.ai/_images/lenet.svg></img> "
      ]
    },
    {
      "cell_type": "markdown",
      "metadata": {
        "id": "CX-iRrHaCY9z"
      },
      "source": [
        "**Architecture hyper parameters:**\n",
        "* conv1: in channels: 1, out channels: 6, kernel size: 5\n",
        "* pool1: kernel size: 2\n",
        "* conv2: in channels: 6, out channels: 16, kernel size: 5\n",
        "* pool2: kernel size: 2\n",
        "\n",
        "* FC1: in channels: 256, out channels: 120 \n",
        "* FC2: in channels: 120, out channels: 84\n",
        "* FC3: in channels: 84, out channels: 10"
      ]
    },
    {
      "cell_type": "code",
      "execution_count": null,
      "metadata": {
        "id": "wk3S0setrmQI"
      },
      "outputs": [],
      "source": [
        "# LeNet skeleton!\n",
        "class LeNet(nn.Module):\n",
        "    def __init__(self):\n",
        "        super(LeNet, self).__init__()\n",
        "        #conv1: in channels: 1, out channels: 6, kernel size: 5\n",
        "        self.conv1 = nn.Conv2d(in_channels=1, out_channels=6, kernel_size=(5, 5), stride=1)\n",
        "        #poolLayer\n",
        "        self.pool_layer = nn.AvgPool2d(2)\n",
        "        #conv2: in channels: 6, out channels: 16, kernel size: 5\n",
        "        self.conv2 = nn.Conv2d(in_channels=6, out_channels=16, kernel_size=(5, 5), stride=1)\n",
        "        #poolLayer\n",
        "        #Fully Connected Layer #1\n",
        "        self.fc1 = nn.Linear(in_features=256, out_features=120)\n",
        "        #Fully Connected Layer #2\n",
        "        self.fc2 = nn.Linear(in_features=120, out_features=84)\n",
        "        #Fully Connected Layer #3\n",
        "        self.fc3 = nn.Linear(in_features=84, out_features=10)\n",
        "        #RELU activation\n",
        "        self.relu = nn.ReLU()\n",
        "\n",
        "    def forward(self, x):\n",
        "      x = self.conv1(x)\n",
        "      x = self.relu(x) #output after conv1\n",
        "      x = self.pool_layer(x)\n",
        "      x = self.relu(x) #output after pool1\n",
        "      x = self.conv2(x)\n",
        "      x = self.relu(x) #output after conv2\n",
        "      x = self.pool_layer(x)\n",
        "      x = self.relu(x) #output after pool2\n",
        "      x = x.view(x.shape[0],-1) #flattern\n",
        "      x = self.fc1(x)\n",
        "      x = self.relu(x) #output after Fully connected #1\n",
        "      x = self.fc2(x)\n",
        "      x = self.relu(x) #output after Fully connected #2\n",
        "      y = self.fc3(x)\n",
        "      return y"
      ]
    }
  ],
  "metadata": {
    "accelerator": "GPU",
    "colab": {
      "collapsed_sections": [],
      "name": "LAB_5_deepLearning_Intro.ipynb",
      "provenance": []
    },
    "kernelspec": {
      "display_name": "Python 3",
      "language": "python",
      "name": "python3"
    },
    "language_info": {
      "codemirror_mode": {
        "name": "ipython",
        "version": 3
      },
      "file_extension": ".py",
      "mimetype": "text/x-python",
      "name": "python",
      "nbconvert_exporter": "python",
      "pygments_lexer": "ipython3",
      "version": "3.7.9"
    }
  },
  "nbformat": 4,
  "nbformat_minor": 0
}